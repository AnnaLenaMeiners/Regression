{
 "cells": [
  {
   "cell_type": "markdown",
   "id": "96f12784-57a5-4237-b0ae-c3288946789c",
   "metadata": {},
   "source": [
    "![Logo](Technikklein.png)\n",
    "\n",
    "# Task 9: Regression\n",
    "### Data Science\n",
    "\n",
    "\n",
    "##### Dozent: Prof. Dr. Stefan Edlich\n",
    "##### Medieninformatik\n",
    "##### Hochschule Emden/Leer\n",
    "##### Sommersemester 2021\n",
    "   \n",
    "_____\n"
   ]
  },
  {
   "cell_type": "markdown",
   "id": "df9ced9b-b3e1-4263-8a44-e615f38bbdeb",
   "metadata": {},
   "source": [
    "### Ex. 1 Linear Regression\n",
    "\n",
    "Make up your own personal dataset and predict the regression curve.\n"
   ]
  },
  {
   "cell_type": "markdown",
   "id": "df723f60-c35e-4ab3-bca8-599ea967391d",
   "metadata": {},
   "source": [
    "(I am imagining data from a survey where people have been asked to rate how well they like different ingredients in a fruit cake. The results would have been translated to a scale of 1-7, whereas 1 is \"I don't like that at all\" and 7 is \"This is my favorite thing in a fruit cake\". From this, one could try to predict how well people like raisins in their fruitcake based on how well they like marzipan. Of course, I rigged the dataset so that people who like marzipan dislike raisins and the other way around and also the stronger they like something, they dislike the other.)\n"
   ]
  },
  {
   "cell_type": "code",
   "execution_count": 1,
   "id": "6dbe41f1-e203-411b-8555-6234d4a7c66d",
   "metadata": {},
   "outputs": [
    {
     "name": "stdout",
     "output_type": "stream",
     "text": [
      "         Name  Marzipan  Raisins\n",
      "0        Anna         6        2\n",
      "1         Bob         3        3\n",
      "2        Caro         1        7\n",
      "3      Daniel         5        2\n",
      "4        Ella         1        6\n",
      "5        Fred         2        5\n",
      "6        Gaby         3        4\n",
      "7       Harry         4        3\n",
      "8      Isabel         5        2\n",
      "9       Jonas         6        2\n",
      "10      Karen         7        1\n",
      "11      Lauri         1        5\n",
      "12    Margret         5        2\n",
      "13    Norbert         4        3\n",
      "14       Olga         3        3\n",
      "15    Philipp         2        5\n",
      "16      Quinn         1        6\n",
      "17     Robert         2        6\n",
      "18      Sonja         3        4\n",
      "19        Tom         4        4\n",
      "20     Ursula         5        1\n",
      "21   Valentin         6        1\n",
      "22      Wanda         7        2\n",
      "23      Xaver         1        5\n",
      "24     Yasmin         5        3\n",
      "25  Zacharias         4        3\n"
     ]
    }
   ],
   "source": [
    "import pandas as pd\n",
    "import numpy as np\n",
    "import matplotlib.pyplot as plot\n",
    "from scipy import stats\n",
    "from sklearn.model_selection import train_test_split\n",
    "from sklearn.linear_model import LinearRegression\n",
    "\n",
    "data = pd.read_csv(\"fruitcakedata.csv\")\n",
    "\n",
    "df = pd.DataFrame(data)\n",
    "\n",
    "print (df)"
   ]
  },
  {
   "cell_type": "markdown",
   "id": "c9d786e2-3255-40fb-9543-54818c51f865",
   "metadata": {},
   "source": [
    "#### First let's have a preview if I rigged the dataset right (should be obvious already)."
   ]
  },
  {
   "cell_type": "code",
   "execution_count": 2,
   "id": "ac621ab2-18d7-499b-8e89-b4ae585d84f2",
   "metadata": {},
   "outputs": [
    {
     "data": {
      "text/plain": [
       "<matplotlib.collections.PathCollection at 0x1c1c1987430>"
      ]
     },
     "execution_count": 2,
     "metadata": {},
     "output_type": "execute_result"
    },
    {
     "data": {
      "image/png": "[encoded data removed]",
      "text/plain": [
       "<Figure size 432x288 with 1 Axes>"
      ]
     },
     "metadata": {
      "needs_background": "light"
     },
     "output_type": "display_data"
    }
   ],
   "source": [
    "plot.scatter(df.Marzipan, df.Raisins)"
   ]
  },
  {
   "cell_type": "markdown",
   "id": "2fc0253b-323e-4483-8f1a-34c63e2dbfb9",
   "metadata": {},
   "source": [
    "#### Then assign x and y from the dataset."
   ]
  },
  {
   "cell_type": "code",
   "execution_count": 3,
   "id": "bf49e506-e168-4e47-91b3-4d16aa9f6b0f",
   "metadata": {},
   "outputs": [
    {
     "name": "stdout",
     "output_type": "stream",
     "text": [
      "[[6]\n",
      " [3]\n",
      " [1]\n",
      " [5]\n",
      " [1]\n",
      " [2]\n",
      " [3]\n",
      " [4]\n",
      " [5]\n",
      " [6]\n",
      " [7]\n",
      " [1]\n",
      " [5]\n",
      " [4]\n",
      " [3]\n",
      " [2]\n",
      " [1]\n",
      " [2]\n",
      " [3]\n",
      " [4]\n",
      " [5]\n",
      " [6]\n",
      " [7]\n",
      " [1]\n",
      " [5]\n",
      " [4]]\n",
      "[2 3 7 2 6 5 4 3 2 2 1 5 2 3 3 5 6 6 4 4 1 1 2 5 3 3]\n"
     ]
    }
   ],
   "source": [
    "x = df.iloc[:, 1:2].values\n",
    "y = df.iloc[:, 2].values\n",
    "print(x)\n",
    "print(y)"
   ]
  },
  {
   "cell_type": "markdown",
   "id": "969ee281-59aa-49c9-92a6-7ea5b8c97d08",
   "metadata": {},
   "source": [
    "#### Then split the data into Training and Testing data."
   ]
  },
  {
   "cell_type": "code",
   "execution_count": 4,
   "id": "ffb69aed-a98c-4b83-aa83-61ae4d26a3cf",
   "metadata": {},
   "outputs": [
    {
     "name": "stdout",
     "output_type": "stream",
     "text": [
      "[[4]\n",
      " [3]\n",
      " [4]\n",
      " [1]\n",
      " [3]\n",
      " [7]\n",
      " [4]\n",
      " [5]\n",
      " [5]\n",
      " [3]\n",
      " [1]\n",
      " [6]\n",
      " [4]\n",
      " [1]\n",
      " [5]\n",
      " [6]\n",
      " [6]\n",
      " [2]\n",
      " [5]]\n",
      "[3 4 4 6 3 1 3 3 2 4 6 2 3 5 2 2 1 5 2]\n"
     ]
    }
   ],
   "source": [
    "xTrain, xTest, yTrain, yTest = train_test_split(x, y, test_size = 1/4, random_state = 0)\n",
    "xTrain.reshape(19, 1)\n",
    "print(xTrain)\n",
    "print(yTrain)"
   ]
  },
  {
   "cell_type": "markdown",
   "id": "33b43955-b542-48bf-a014-c3aae1a3efa0",
   "metadata": {},
   "source": [
    "#### Then implement the regression and check whether predictions are good (x+y should be around 7)."
   ]
  },
  {
   "cell_type": "code",
   "execution_count": 5,
   "id": "ff95fdfb-09c3-4dd6-88e2-8565d800a413",
   "metadata": {},
   "outputs": [
    {
     "name": "stdout",
     "output_type": "stream",
     "text": [
      "[[1]\n",
      " [5]\n",
      " [3]\n",
      " [2]\n",
      " [2]\n",
      " [1]\n",
      " [7]]\n",
      "[5.55    2.375   3.9625  4.75625 4.75625 5.55    0.7875 ]\n"
     ]
    }
   ],
   "source": [
    "linearRegressor = LinearRegression()\n",
    "linearRegressor.fit(xTrain, yTrain)\n",
    "print(xTest)\n",
    "yPrediction = linearRegressor.predict(xTest)\n",
    "print(yPrediction)"
   ]
  },
  {
   "cell_type": "markdown",
   "id": "251beacf-c68e-4035-b702-51a086465d40",
   "metadata": {},
   "source": [
    "#### Then visualize it. Looks good for this tiny dataset! :)"
   ]
  },
  {
   "cell_type": "code",
   "execution_count": 6,
   "id": "842f8b2c-6a43-4b0b-9ce1-a8e26a526b40",
   "metadata": {},
   "outputs": [
    {
     "data": {
      "image/png": "[encoded data removed]",
      "text/plain": [
       "<Figure size 432x288 with 1 Axes>"
      ]
     },
     "metadata": {
      "needs_background": "light"
     },
     "output_type": "display_data"
    },
    {
     "data": {
      "image/png": "[encoded data removed]",
      "text/plain": [
       "<Figure size 432x288 with 1 Axes>"
      ]
     },
     "metadata": {
      "needs_background": "light"
     },
     "output_type": "display_data"
    }
   ],
   "source": [
    "plot.scatter(xTrain, yTrain, color = 'red')\n",
    "plot.plot(xTrain, linearRegressor.predict(xTrain), color = 'blue')\n",
    "plot.title('Marzipan vs Raisins (Training set)')\n",
    "plot.xlabel('Marzipan')\n",
    "plot.ylabel('Raisins')\n",
    "plot.show()\n",
    "plot.scatter(xTest, yTest, color = 'red')\n",
    "plot.plot(xTrain, linearRegressor.predict(xTrain), color = 'blue')\n",
    "plot.title('Marzipan vs Raisins (Test set)')\n",
    "plot.xlabel('Marzipan')\n",
    "plot.ylabel('Raisins')\n",
    "plot.show()"
   ]
  },
  {
   "cell_type": "markdown",
   "id": "e1b70d7c-83a3-43ad-b8de-46fee1d59c25",
   "metadata": {},
   "source": [
    "\n",
    "______________________________"
   ]
  },
  {
   "cell_type": "markdown",
   "id": "6f72d752-6f72-4638-a04a-ff60c7108a96",
   "metadata": {},
   "source": [
    "\n",
    "### Ex. 2 Logistic Regression\n",
    "You are walking in the forrest and see an iris and measure:\n",
    "\n",
    "4.8,2.5,5.3,2.4\n",
    "Is this an Iris Virginica or not?\n",
    "\n",
    "The absolute minimum is to derive 4 probabilites for each feature. Bu tit would be best to evaluate all 4 values in a (combined) equation to get one single probability for Iris Virginica!"
   ]
  },
  {
   "cell_type": "markdown",
   "id": "39801211-b517-41a3-9f9d-b00d69a38ed3",
   "metadata": {},
   "source": [
    "#### First, import the Iris Dataset."
   ]
  },
  {
   "cell_type": "code",
   "execution_count": 7,
   "id": "27338b6b-e44c-495f-bada-406ef481bba7",
   "metadata": {},
   "outputs": [
    {
     "data": {
      "text/plain": [
       "{'data': array([[5.1, 3.5, 1.4, 0.2],\n",
       "        [4.9, 3. , 1.4, 0.2],\n",
       "        [4.7, 3.2, 1.3, 0.2],\n",
       "        [4.6, 3.1, 1.5, 0.2],\n",
       "        [5. , 3.6, 1.4, 0.2],\n",
       "        [5.4, 3.9, 1.7, 0.4],\n",
       "        [4.6, 3.4, 1.4, 0.3],\n",
       "        [5. , 3.4, 1.5, 0.2],\n",
       "        [4.4, 2.9, 1.4, 0.2],\n",
       "        [4.9, 3.1, 1.5, 0.1],\n",
       "        [5.4, 3.7, 1.5, 0.2],\n",
       "        [4.8, 3.4, 1.6, 0.2],\n",
       "        [4.8, 3. , 1.4, 0.1],\n",
       "        [4.3, 3. , 1.1, 0.1],\n",
       "        [5.8, 4. , 1.2, 0.2],\n",
       "        [5.7, 4.4, 1.5, 0.4],\n",
       "        [5.4, 3.9, 1.3, 0.4],\n",
       "        [5.1, 3.5, 1.4, 0.3],\n",
       "        [5.7, 3.8, 1.7, 0.3],\n",
       "        [5.1, 3.8, 1.5, 0.3],\n",
       "        [5.4, 3.4, 1.7, 0.2],\n",
       "        [5.1, 3.7, 1.5, 0.4],\n",
       "        [4.6, 3.6, 1. , 0.2],\n",
       "        [5.1, 3.3, 1.7, 0.5],\n",
       "        [4.8, 3.4, 1.9, 0.2],\n",
       "        [5. , 3. , 1.6, 0.2],\n",
       "        [5. , 3.4, 1.6, 0.4],\n",
       "        [5.2, 3.5, 1.5, 0.2],\n",
       "        [5.2, 3.4, 1.4, 0.2],\n",
       "        [4.7, 3.2, 1.6, 0.2],\n",
       "        [4.8, 3.1, 1.6, 0.2],\n",
       "        [5.4, 3.4, 1.5, 0.4],\n",
       "        [5.2, 4.1, 1.5, 0.1],\n",
       "        [5.5, 4.2, 1.4, 0.2],\n",
       "        [4.9, 3.1, 1.5, 0.2],\n",
       "        [5. , 3.2, 1.2, 0.2],\n",
       "        [5.5, 3.5, 1.3, 0.2],\n",
       "        [4.9, 3.6, 1.4, 0.1],\n",
       "        [4.4, 3. , 1.3, 0.2],\n",
       "        [5.1, 3.4, 1.5, 0.2],\n",
       "        [5. , 3.5, 1.3, 0.3],\n",
       "        [4.5, 2.3, 1.3, 0.3],\n",
       "        [4.4, 3.2, 1.3, 0.2],\n",
       "        [5. , 3.5, 1.6, 0.6],\n",
       "        [5.1, 3.8, 1.9, 0.4],\n",
       "        [4.8, 3. , 1.4, 0.3],\n",
       "        [5.1, 3.8, 1.6, 0.2],\n",
       "        [4.6, 3.2, 1.4, 0.2],\n",
       "        [5.3, 3.7, 1.5, 0.2],\n",
       "        [5. , 3.3, 1.4, 0.2],\n",
       "        [7. , 3.2, 4.7, 1.4],\n",
       "        [6.4, 3.2, 4.5, 1.5],\n",
       "        [6.9, 3.1, 4.9, 1.5],\n",
       "        [5.5, 2.3, 4. , 1.3],\n",
       "        [6.5, 2.8, 4.6, 1.5],\n",
       "        [5.7, 2.8, 4.5, 1.3],\n",
       "        [6.3, 3.3, 4.7, 1.6],\n",
       "        [4.9, 2.4, 3.3, 1. ],\n",
       "        [6.6, 2.9, 4.6, 1.3],\n",
       "        [5.2, 2.7, 3.9, 1.4],\n",
       "        [5. , 2. , 3.5, 1. ],\n",
       "        [5.9, 3. , 4.2, 1.5],\n",
       "        [6. , 2.2, 4. , 1. ],\n",
       "        [6.1, 2.9, 4.7, 1.4],\n",
       "        [5.6, 2.9, 3.6, 1.3],\n",
       "        [6.7, 3.1, 4.4, 1.4],\n",
       "        [5.6, 3. , 4.5, 1.5],\n",
       "        [5.8, 2.7, 4.1, 1. ],\n",
       "        [6.2, 2.2, 4.5, 1.5],\n",
       "        [5.6, 2.5, 3.9, 1.1],\n",
       "        [5.9, 3.2, 4.8, 1.8],\n",
       "        [6.1, 2.8, 4. , 1.3],\n",
       "        [6.3, 2.5, 4.9, 1.5],\n",
       "        [6.1, 2.8, 4.7, 1.2],\n",
       "        [6.4, 2.9, 4.3, 1.3],\n",
       "        [6.6, 3. , 4.4, 1.4],\n",
       "        [6.8, 2.8, 4.8, 1.4],\n",
       "        [6.7, 3. , 5. , 1.7],\n",
       "        [6. , 2.9, 4.5, 1.5],\n",
       "        [5.7, 2.6, 3.5, 1. ],\n",
       "        [5.5, 2.4, 3.8, 1.1],\n",
       "        [5.5, 2.4, 3.7, 1. ],\n",
       "        [5.8, 2.7, 3.9, 1.2],\n",
       "        [6. , 2.7, 5.1, 1.6],\n",
       "        [5.4, 3. , 4.5, 1.5],\n",
       "        [6. , 3.4, 4.5, 1.6],\n",
       "        [6.7, 3.1, 4.7, 1.5],\n",
       "        [6.3, 2.3, 4.4, 1.3],\n",
       "        [5.6, 3. , 4.1, 1.3],\n",
       "        [5.5, 2.5, 4. , 1.3],\n",
       "        [5.5, 2.6, 4.4, 1.2],\n",
       "        [6.1, 3. , 4.6, 1.4],\n",
       "        [5.8, 2.6, 4. , 1.2],\n",
       "        [5. , 2.3, 3.3, 1. ],\n",
       "        [5.6, 2.7, 4.2, 1.3],\n",
       "        [5.7, 3. , 4.2, 1.2],\n",
       "        [5.7, 2.9, 4.2, 1.3],\n",
       "        [6.2, 2.9, 4.3, 1.3],\n",
       "        [5.1, 2.5, 3. , 1.1],\n",
       "        [5.7, 2.8, 4.1, 1.3],\n",
       "        [6.3, 3.3, 6. , 2.5],\n",
       "        [5.8, 2.7, 5.1, 1.9],\n",
       "        [7.1, 3. , 5.9, 2.1],\n",
       "        [6.3, 2.9, 5.6, 1.8],\n",
       "        [6.5, 3. , 5.8, 2.2],\n",
       "        [7.6, 3. , 6.6, 2.1],\n",
       "        [4.9, 2.5, 4.5, 1.7],\n",
       "        [7.3, 2.9, 6.3, 1.8],\n",
       "        [6.7, 2.5, 5.8, 1.8],\n",
       "        [7.2, 3.6, 6.1, 2.5],\n",
       "        [6.5, 3.2, 5.1, 2. ],\n",
       "        [6.4, 2.7, 5.3, 1.9],\n",
       "        [6.8, 3. , 5.5, 2.1],\n",
       "        [5.7, 2.5, 5. , 2. ],\n",
       "        [5.8, 2.8, 5.1, 2.4],\n",
       "        [6.4, 3.2, 5.3, 2.3],\n",
       "        [6.5, 3. , 5.5, 1.8],\n",
       "        [7.7, 3.8, 6.7, 2.2],\n",
       "        [7.7, 2.6, 6.9, 2.3],\n",
       "        [6. , 2.2, 5. , 1.5],\n",
       "        [6.9, 3.2, 5.7, 2.3],\n",
       "        [5.6, 2.8, 4.9, 2. ],\n",
       "        [7.7, 2.8, 6.7, 2. ],\n",
       "        [6.3, 2.7, 4.9, 1.8],\n",
       "        [6.7, 3.3, 5.7, 2.1],\n",
       "        [7.2, 3.2, 6. , 1.8],\n",
       "        [6.2, 2.8, 4.8, 1.8],\n",
       "        [6.1, 3. , 4.9, 1.8],\n",
       "        [6.4, 2.8, 5.6, 2.1],\n",
       "        [7.2, 3. , 5.8, 1.6],\n",
       "        [7.4, 2.8, 6.1, 1.9],\n",
       "        [7.9, 3.8, 6.4, 2. ],\n",
       "        [6.4, 2.8, 5.6, 2.2],\n",
       "        [6.3, 2.8, 5.1, 1.5],\n",
       "        [6.1, 2.6, 5.6, 1.4],\n",
       "        [7.7, 3. , 6.1, 2.3],\n",
       "        [6.3, 3.4, 5.6, 2.4],\n",
       "        [6.4, 3.1, 5.5, 1.8],\n",
       "        [6. , 3. , 4.8, 1.8],\n",
       "        [6.9, 3.1, 5.4, 2.1],\n",
       "        [6.7, 3.1, 5.6, 2.4],\n",
       "        [6.9, 3.1, 5.1, 2.3],\n",
       "        [5.8, 2.7, 5.1, 1.9],\n",
       "        [6.8, 3.2, 5.9, 2.3],\n",
       "        [6.7, 3.3, 5.7, 2.5],\n",
       "        [6.7, 3. , 5.2, 2.3],\n",
       "        [6.3, 2.5, 5. , 1.9],\n",
       "        [6.5, 3. , 5.2, 2. ],\n",
       "        [6.2, 3.4, 5.4, 2.3],\n",
       "        [5.9, 3. , 5.1, 1.8]]),\n",
       " 'target': array([0, 0, 0, 0, 0, 0, 0, 0, 0, 0, 0, 0, 0, 0, 0, 0, 0, 0, 0, 0, 0, 0,\n",
       "        0, 0, 0, 0, 0, 0, 0, 0, 0, 0, 0, 0, 0, 0, 0, 0, 0, 0, 0, 0, 0, 0,\n",
       "        0, 0, 0, 0, 0, 0, 1, 1, 1, 1, 1, 1, 1, 1, 1, 1, 1, 1, 1, 1, 1, 1,\n",
       "        1, 1, 1, 1, 1, 1, 1, 1, 1, 1, 1, 1, 1, 1, 1, 1, 1, 1, 1, 1, 1, 1,\n",
       "        1, 1, 1, 1, 1, 1, 1, 1, 1, 1, 1, 1, 2, 2, 2, 2, 2, 2, 2, 2, 2, 2,\n",
       "        2, 2, 2, 2, 2, 2, 2, 2, 2, 2, 2, 2, 2, 2, 2, 2, 2, 2, 2, 2, 2, 2,\n",
       "        2, 2, 2, 2, 2, 2, 2, 2, 2, 2, 2, 2, 2, 2, 2, 2, 2, 2]),\n",
       " 'frame': None,\n",
       " 'target_names': array(['setosa', 'versicolor', 'virginica'], dtype='<U10'),\n",
       " 'DESCR': '.. _iris_dataset:\\n\\nIris plants dataset\\n--------------------\\n\\n**Data Set Characteristics:**\\n\\n    :Number of Instances: 150 (50 in each of three classes)\\n    :Number of Attributes: 4 numeric, predictive attributes and the class\\n    :Attribute Information:\\n        - sepal length in cm\\n        - sepal width in cm\\n        - petal length in cm\\n        - petal width in cm\\n        - class:\\n                - Iris-Setosa\\n                - Iris-Versicolour\\n                - Iris-Virginica\\n                \\n    :Summary Statistics:\\n\\n    ============== ==== ==== ======= ===== ====================\\n                    Min  Max   Mean    SD   Class Correlation\\n    ============== ==== ==== ======= ===== ====================\\n    sepal length:   4.3  7.9   5.84   0.83    0.7826\\n    sepal width:    2.0  4.4   3.05   0.43   -0.4194\\n    petal length:   1.0  6.9   3.76   1.76    0.9490  (high!)\\n    petal width:    0.1  2.5   1.20   0.76    0.9565  (high!)\\n    ============== ==== ==== ======= ===== ====================\\n\\n    :Missing Attribute Values: None\\n    :Class Distribution: 33.3% for each of 3 classes.\\n    :Creator: R.A. Fisher\\n    :Donor: Michael Marshall (MARSHALL%PLU@io.arc.nasa.gov)\\n    :Date: July, 1988\\n\\nThe famous Iris database, first used by Sir R.A. Fisher. The dataset is taken\\nfrom Fisher\\'s paper. Note that it\\'s the same as in R, but not as in the UCI\\nMachine Learning Repository, which has two wrong data points.\\n\\nThis is perhaps the best known database to be found in the\\npattern recognition literature.  Fisher\\'s paper is a classic in the field and\\nis referenced frequently to this day.  (See Duda & Hart, for example.)  The\\ndata set contains 3 classes of 50 instances each, where each class refers to a\\ntype of iris plant.  One class is linearly separable from the other 2; the\\nlatter are NOT linearly separable from each other.\\n\\n.. topic:: References\\n\\n   - Fisher, R.A. \"The use of multiple measurements in taxonomic problems\"\\n     Annual Eugenics, 7, Part II, 179-188 (1936); also in \"Contributions to\\n     Mathematical Statistics\" (John Wiley, NY, 1950).\\n   - Duda, R.O., & Hart, P.E. (1973) Pattern Classification and Scene Analysis.\\n     (Q327.D83) John Wiley & Sons.  ISBN 0-471-22361-1.  See page 218.\\n   - Dasarathy, B.V. (1980) \"Nosing Around the Neighborhood: A New System\\n     Structure and Classification Rule for Recognition in Partially Exposed\\n     Environments\".  IEEE Transactions on Pattern Analysis and Machine\\n     Intelligence, Vol. PAMI-2, No. 1, 67-71.\\n   - Gates, G.W. (1972) \"The Reduced Nearest Neighbor Rule\".  IEEE Transactions\\n     on Information Theory, May 1972, 431-433.\\n   - See also: 1988 MLC Proceedings, 54-64.  Cheeseman et al\"s AUTOCLASS II\\n     conceptual clustering system finds 3 classes in the data.\\n   - Many, many more ...',\n",
       " 'feature_names': ['sepal length (cm)',\n",
       "  'sepal width (cm)',\n",
       "  'petal length (cm)',\n",
       "  'petal width (cm)'],\n",
       " 'filename': 'C:\\\\Users\\\\annal\\\\anaconda3\\\\lib\\\\site-packages\\\\sklearn\\\\datasets\\\\data\\\\iris.csv'}"
      ]
     },
     "execution_count": 7,
     "metadata": {},
     "output_type": "execute_result"
    }
   ],
   "source": [
    "from sklearn.datasets import load_iris\n",
    "from sklearn.linear_model import LogisticRegression\n",
    "\n",
    "iris = load_iris()\n",
    "iris"
   ]
  },
  {
   "cell_type": "markdown",
   "id": "f8a839c5-f31a-4436-92e5-f964d6147cbb",
   "metadata": {},
   "source": [
    "#### Then get the data for the regression (x is the iris data and y the target. Since we want to find out whether our plant is of the class Virginicaor not, we are only interested in Virginica data)."
   ]
  },
  {
   "cell_type": "code",
   "execution_count": 10,
   "id": "e6a6796b-f820-4131-a996-a702458c7171",
   "metadata": {},
   "outputs": [
    {
     "data": {
      "text/plain": [
       "LogisticRegression()"
      ]
     },
     "execution_count": 10,
     "metadata": {},
     "output_type": "execute_result"
    }
   ],
   "source": [
    "x = iris['data']\n",
    "y = (iris['target'] == 2).astype(int) # 2 is the value for the class Virginica\n",
    "\n",
    "log_reg = LogisticRegression()\n",
    "log_reg.fit(x,y)"
   ]
  },
  {
   "cell_type": "markdown",
   "id": "ed9422df-55ba-43be-aa0d-8237029aa7c8",
   "metadata": {},
   "source": [
    "#### Then, we calculate the probability that our flower is a Virginica - 1 is clear, it is!"
   ]
  },
  {
   "cell_type": "code",
   "execution_count": 9,
   "id": "f321e515-da20-4603-aefe-0d1be1cc8de5",
   "metadata": {},
   "outputs": [
    {
     "data": {
      "text/plain": [
       "array([1])"
      ]
     },
     "execution_count": 9,
     "metadata": {},
     "output_type": "execute_result"
    }
   ],
   "source": [
    "log_reg.predict([[4.8, 2.5, 5.3, 2.4]])"
   ]
  }
 ],
 "metadata": {
  "kernelspec": {
   "display_name": "Python 3",
   "language": "python",
   "name": "python3"
  },
  "language_info": {
   "codemirror_mode": {
    "name": "ipython",
    "version": 3
   },
   "file_extension": ".py",
   "mimetype": "text/x-python",
   "name": "python",
   "nbconvert_exporter": "python",
   "pygments_lexer": "ipython3",
   "version": "3.8.8"
  }
 },
 "nbformat": 4,
 "nbformat_minor": 5
}
